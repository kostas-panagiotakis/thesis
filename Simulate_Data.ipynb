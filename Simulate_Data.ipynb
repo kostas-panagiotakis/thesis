{
 "cells": [
  {
   "cell_type": "code",
   "execution_count": 1,
   "metadata": {},
   "outputs": [],
   "source": [
    "from utils import *"
   ]
  },
  {
   "cell_type": "markdown",
   "metadata": {},
   "source": [
    "## Decompress CommandedScanLaw_001.csv.gz file"
   ]
  },
  {
   "cell_type": "code",
   "execution_count": null,
   "metadata": {},
   "outputs": [],
   "source": [
    "import gzip\n",
    "import shutil\n",
    "\n",
    "# Define the input and output file paths\n",
    "input_gz_file = 'data/CommandedScanLaw_001.csv.gz'\n",
    "output_csv_file = 'data/CommandedScanLaw_001.csv'\n",
    "\n",
    "# Open the gzipped file and write its content to the new CSV file\n",
    "with gzip.open(input_gz_file, 'rb') as f_in:\n",
    "    with open(output_csv_file, 'wb') as f_out:\n",
    "        shutil.copyfileobj(f_in, f_out)\n",
    "\n",
    "print(f'File {input_gz_file} has been decompressed to {output_csv_file}')"
   ]
  },
  {
   "cell_type": "markdown",
   "metadata": {},
   "source": [
    "### Load ScanLaw file"
   ]
  },
  {
   "cell_type": "code",
   "execution_count": null,
   "metadata": {},
   "outputs": [],
   "source": [
    "# /Gaia/gedr3/auxiliary/commanded_scan_law/ @ https://cdn.gea.esac.esa.int/Gaia/gedr3/auxiliary/commanded_scan_law/\n",
    "local_csv_filename = \"data/CommandedScanLaw_001.csv\"\n",
    "\n",
    "# Load the scanning law times from a local CSV file with the specified filename and version\n",
    "dr3_sl = scanninglaw.times.Times(map_fname=local_csv_filename, version='dr3_nominal')\n"
   ]
  },
  {
   "cell_type": "code",
   "execution_count": null,
   "metadata": {},
   "outputs": [],
   "source": [
    "dr3Period=34/12 # Calculate the period in years by dividing 34 by 12\n",
    "mas=astromet.mas # conversion from degrees to milli-arcseconds"
   ]
  },
  {
   "cell_type": "markdown",
   "metadata": {},
   "source": [
    "## Generate nTest simulated star systems\n",
    "\n",
    "##### Simulation of \n",
    "\n",
    "##### REFERENCE: code from astromet - https://github.com/zpenoyre/astromet.py/blob/master/gaiaBinarySynth.ipynb"
   ]
  },
  {
   "cell_type": "code",
   "execution_count": null,
   "metadata": {},
   "outputs": [],
   "source": [
    "nTest=10000\n",
    "dataNames=('RA','Dec','pmRA','pmDec','pllx',\n",
    "           'M_tot','q','l','a','e','P','tPeri',\n",
    "           'vTheta','vPhi','vOmega',\n",
    "           'predict_dTheta','simple_dTheta',\n",
    "           'N_obs','sigma_al','sigma_ac',\n",
    "           'fit_ra','fit_dec','fit_pmrac','fit_pmdec','fit_pllx',\n",
    "           'sigma_rac','sigma_dec','sigma_pmrac','sigma_pmdec','sigma_pllx',\n",
    "           'N_vis','frac_good','AEN','UWE'\n",
    "          )\n",
    "          \n",
    "allData=astropy.table.Table(names=dataNames)\n",
    "\n",
    "alError=1\n",
    "#acError=0.3  -- currently ignoring across scan measurements (~negligible change)\n",
    "\n",
    "# we'll generate nTest sets of parameters, and test each with a 0, 2 ,5 and 10 mSun BH\n",
    "for i in tqdm(range(nTest)):\n",
    "    allData.add_row()\n",
    "    thisRow=allData[i]\n",
    "    \n",
    "    params=astromet.params()\n",
    "    params.ra=360*np.random.rand()\n",
    "    params.dec=np.arcsin(-1+2*np.random.rand())*180/np.pi\n",
    "    \n",
    "    c=Source(params.ra,params.dec,unit='deg')\n",
    "    sl=dr3_sl(c, return_times=True, return_angles=True)\n",
    "    ts=2010+np.squeeze(np.hstack(sl['times']))/365.25\n",
    "    sort=np.argsort(ts)\n",
    "    ts=np.double(ts[sort])\n",
    "    \n",
    "    phis=np.squeeze(np.hstack(sl['angles']))[sort]\n",
    "    \n",
    "    params.parallax=10*np.power(np.random.rand(),-1/3) # all within 100 pc\n",
    "    params.pmrac=params.parallax*(1)*np.random.randn()\n",
    "    params.pmdec=params.parallax*(1)*np.random.randn()\n",
    "    params.period=10**(-1.5+3*np.random.rand()) # periods between 0.03 and 30 years\n",
    "    params.l=np.random.rand() # uniform light ratio\n",
    "    params.q=4*np.random.rand()**2 # mass ratios between 0 and 4 (half less than 1)\n",
    "    params.a=10*np.random.rand()**2\n",
    "    params.e=np.random.rand()\n",
    "    params.vtheta=np.arccos(-1+2*np.random.rand())\n",
    "    params.vphi=2*np.pi*np.random.rand()\n",
    "    params.vomega=2*np.pi*np.random.rand()\n",
    "    orbitalPhase=np.random.rand() # fraction of an orbit completed at t=0\n",
    "    params.tperi=params.period*orbitalPhase\n",
    "    \n",
    "    thisRow['RA']=1.*params.ra\n",
    "    thisRow['Dec']=1.*params.dec\n",
    "    thisRow['pmRA']=params.pmrac\n",
    "    thisRow['pmDec']=params.pmdec\n",
    "    thisRow['pllx']=params.parallax\n",
    "    thisRow['M_tot']=4*(np.pi**2)*astromet.Galt/((params.period**2)*(params.a**3))\n",
    "    thisRow['q']=params.q\n",
    "    thisRow['l']=params.l\n",
    "    thisRow['a']=params.a\n",
    "    thisRow['e']=params.e\n",
    "    thisRow['P']=params.period\n",
    "    thisRow['tPeri']=1.*params.tperi\n",
    "    thisRow['vTheta']=params.vtheta\n",
    "    thisRow['vPhi']=params.vphi\n",
    "    thisRow['vOmega']=params.vomega\n",
    "    thisRow['sigma_al']=alError\n",
    "    #thisRow['sigma_ac']=acError\n",
    "\n",
    "    trueRacs,trueDecs=astromet.track(ts,params)\n",
    "\n",
    "    # added .astype(float) to avoid astromet error\n",
    "    phis = phis.astype(float)\n",
    "    \n",
    "    t_obs,x_obs,phi_obs,rac_obs,dec_obs=astromet.mock_obs(ts,phis,trueRacs,trueDecs,err=alError)\n",
    "    \n",
    "    fitresults=astromet.fit(t_obs,x_obs,phi_obs,alError,params.ra,params.dec)\n",
    "    results=astromet.gaia_results(fitresults)\n",
    "    \n",
    "    # print('ra, dec, pllx, pmrac, pmdec ',params.ra,params.dec,params.parallax,params.pmrac,params.pmdec)\n",
    "    # print(results)\n",
    "    \n",
    "    # bug somewhere in these\n",
    "    #thisRow['simple_dTheta']=astromet.dtheta_simple(params)\n",
    "    #thisRow['predict_dTheta']=astromet.dtheta_full(params,np.min(ts),np.max(ts))  \n",
    "    \n",
    "    thisRow['fit_ra']=results['ra']\n",
    "    thisRow['fit_dec']=results['dec']\n",
    "    thisRow['fit_pmrac']=results['pmra']\n",
    "    thisRow['fit_pmdec']=results['pmdec']\n",
    "    thisRow['fit_pllx']=results['parallax']\n",
    "\n",
    "    thisRow['sigma_rac']=results['ra_error']\n",
    "    thisRow['sigma_dec']=results['dec_error']\n",
    "    thisRow['sigma_pmrac']=results['pmra_error']\n",
    "    thisRow['sigma_pmdec']=results['pmdec_error']\n",
    "    thisRow['sigma_pllx']=results['parallax_error']\n",
    "\n",
    "    # results['UWE'] --> results['uwe']\n",
    "    thisRow['UWE']=results['uwe']\n",
    "\n",
    "    thisRow['N_obs']=results['astrometric_n_obs_al']\n",
    "    #thisRow['frac_good']=results['astrometric_n_good_obs_al']/results['astrometric_n_obs_al']\n",
    "    thisRow['N_vis']=results['visibility_periods_used']\n",
    "    #thisRow['AEN']=results['astrometric_excess_noise']"
   ]
  },
  {
   "cell_type": "code",
   "execution_count": null,
   "metadata": {},
   "outputs": [],
   "source": [
    "# Convert the astropy table to a pandas DataFrame\n",
    "df = allData.to_pandas()\n",
    "\n",
    "# Export the DataFrame to a CSV file named '100k.csv' in the current folder\n",
    "df.to_csv('data/100k.csv', index=False)\n",
    "\n",
    "# print the column names\n",
    "print(df.columns)\n"
   ]
  },
  {
   "cell_type": "markdown",
   "metadata": {},
   "source": [
    "### Import GAIA DR3 data"
   ]
  },
  {
   "cell_type": "code",
   "execution_count": null,
   "metadata": {},
   "outputs": [],
   "source": [
    "from astroquery.gaia import Gaia\n",
    "\n",
    "# Login into ESA Gaia Data Archive (create login if you have not) to run asynchronous queries using your user quota\n",
    "# credentials file should contain two lines: username and password\n",
    "\n",
    "# Read more about astroquery and Gaia here:\n",
    "# https://astroquery.readthedocs.io/en/latest/gaia/gaia.html\n",
    "\n",
    "# Gaia.login(credentials_file='/Users/vasily/work/python/gaia_archive_credentials')"
   ]
  },
  {
   "cell_type": "code",
   "execution_count": null,
   "metadata": {},
   "outputs": [],
   "source": [
    "# Query Gaia DR3 to select N random sources with given conditions\n",
    "# ---------------------------------------------------------------\n",
    "# For n = 1e+6 sources, the query might take ~10-15 min\n",
    "\n",
    "# n = number of random sources\n",
    "# mag_lim = limiting magnitude in G\n",
    "# blim = limiting |b|\n",
    "# par_sn = threshold in parallax S/N\n",
    "\n",
    "n = 1000000\n",
    "\n",
    "# Query\n",
    "# Make sure that commands inside the query do not stick together, print to check\n",
    "q = f\"\"\"\n",
    "SELECT TOP {n} source_id, ra, dec, phot_g_mean_mag, bp_rp, parallax, pmra, pmdec, ruwe, \n",
    "               radial_velocity_error, rv_method_used, rv_nb_transits, \n",
    "               non_single_star, radial_velocity, parallax_error \n",
    "FROM gaiadr3.gaia_source \n",
    "WHERE radial_velocity_error > 0 \n",
    "  AND rv_nb_transits > 3 \n",
    "  AND ruwe > 0 \n",
    "  AND parallax / parallax_error > 10 \n",
    "  AND rv_method_used = 1 \n",
    "  AND phot_g_mean_mag IS NOT NULL\n",
    "  AND bp_rp IS NOT NULL \n",
    "ORDER BY source_id\n",
    "\"\"\"\n",
    "\n",
    "# Run query\n",
    "job = Gaia.launch_job_async(q)\n",
    "r = job.get_results()\n",
    "\n",
    "# Save the query results to a local CSV file\n",
    "r.write('data/gaia_dr3.csv', overwrite=True)"
   ]
  },
  {
   "cell_type": "markdown",
   "metadata": {},
   "source": [
    "### nss_two_body_orbit"
   ]
  },
  {
   "cell_type": "code",
   "execution_count": null,
   "metadata": {},
   "outputs": [],
   "source": [
    "# Query Gaia DR3 to select N random sources with given conditions\n",
    "# ---------------------------------------------------------------\n",
    "# For n = 1e+6 sources, the query might take ~10-15 min\n",
    "\n",
    "# n = number of random sources\n",
    "# mag_lim = limiting magnitude in G\n",
    "# blim = limiting |b|\n",
    "# par_sn = threshold in parallax S/N\n",
    "\n",
    "n = 10000000\n",
    "\n",
    "# Query\n",
    "# Make sure that commands inside the query do not stick together, print to check\n",
    "q = f\"\"\"\n",
    "SELECT TOP {n} dec, period, arg_periastron, source_id, pmdec, center_of_mass_velocity, \\\n",
    "               nss_solution_type, t_periastron, mass_ratio,\\\n",
    "               ra, semi_amplitude_primary, inclination, pmra, eccentricity \\\n",
    "FROM gaiadr3.nss_two_body_orbit \n",
    "WHERE nss_solution_type = 'AstroSpectroSB1' \\\n",
    "OR nss_solution_type = 'Orbital' \\\n",
    "ORDER BY source_id\n",
    "\"\"\"\n",
    "\n",
    "# Run query\n",
    "job = Gaia.launch_job_async(q)\n",
    "r = job.get_results()\n",
    "\n",
    "# Save the query results to a local CSV file\n",
    "r.write('data/nss_two_body_orbit.csv', overwrite=True)"
   ]
  }
 ],
 "metadata": {
  "kernelspec": {
   "display_name": "base",
   "language": "python",
   "name": "python3"
  },
  "language_info": {
   "codemirror_mode": {
    "name": "ipython",
    "version": 3
   },
   "file_extension": ".py",
   "mimetype": "text/x-python",
   "name": "python",
   "nbconvert_exporter": "python",
   "pygments_lexer": "ipython3",
   "version": "3.8.8"
  }
 },
 "nbformat": 4,
 "nbformat_minor": 2
}
